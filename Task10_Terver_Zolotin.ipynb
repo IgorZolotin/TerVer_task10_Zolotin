{
  "cells": [
    {
      "cell_type": "code",
      "execution_count": 5,
      "id": "275112ab-3359-4f61-8d62-a868007226ab",
      "metadata": {
        "trusted": true
      },
      "outputs": [],
      "source": [
        "import numpy as np\n",
        "from scipy import stats"
      ]
    },
    {
      "cell_type": "markdown",
      "id": "3fa9b0a1",
      "metadata": {},
      "source": [
        "Задание 1.\n",
        "Провести дисперсионный анализ для определения того, есть ли различия среднего роста среди взрослых футболистов, хоккеистов и штангистов. Даны значения роста в трех группах случайно выбранных спортсменов:\n",
        "\n",
        "football_players = [173, 175, 180, 178, 177, 185, 183, 182]\n",
        "\n",
        "hockey_players = [177, 179, 180, 188, 177, 172, 171, 184, 180]\n",
        "\n",
        "lifters = [172, 173, 169, 177, 166, 180, 178, 177, 172, 166, 170]"
      ]
    },
    {
      "cell_type": "code",
      "execution_count": null,
      "id": "62fb05ce-fa20-4c58-b5ee-d18af9a3221c",
      "metadata": {
        "trusted": true
      },
      "outputs": [],
      "source": [
        "fp = np.array([173, 175, 180, 178, 177, 185, 183, 182], dtype=np.float64)\n",
        "hp = np.array([177, 179, 180, 188, 177, 172, 171, 184, 180], dtype=np.float64)\n",
        "lf = np.array([172, 173, 169, 177, 166, 180, 178, 177, 172, 166, 170], dtype=np.float64)\n",
        "\n",
        "n1 = fp.shape[0]\n",
        "n2 = hp.shape[0]\n",
        "n3 = lf.shape[0]"
      ]
    },
    {
      "cell_type": "code",
      "execution_count": 13,
      "id": "4f670b03-d3b8-4cd9-89c1-659491209c13",
      "metadata": {
        "trusted": true
      },
      "outputs": [
        {
          "data": {
            "text/plain": [
              "(179.125, 178.66666666666666, 172.72727272727272)"
            ]
          },
          "execution_count": 13,
          "metadata": {},
          "output_type": "execute_result"
        }
      ],
      "source": [
        "fp_mean = fp.mean()\n",
        "hp_mean = hp.mean()\n",
        "lf_mean = lf.mean()\n",
        "\n",
        "fp_mean, hp_mean, lf_mean"
      ]
    },
    {
      "cell_type": "markdown",
      "id": "4dfde02b",
      "metadata": {},
      "source": [
        "Видно, что средние роста хокеистов и футболистов отличаются не сильно. Проверим статистическую значимость всех отличий."
      ]
    },
    {
      "cell_type": "code",
      "execution_count": 22,
      "id": "ee38474a-8fec-451f-830b-a8441ad06738",
      "metadata": {
        "trusted": true
      },
      "outputs": [
        {
          "name": "stdout",
          "output_type": "stream",
          "text": [
            "[173. 175. 180. 178. 177. 185. 183. 182. 177. 179. 180. 188. 177. 172.\n",
            " 171. 184. 180. 172. 173. 169. 177. 166. 180. 178. 177. 172. 166. 170.]\n"
          ]
        }
      ],
      "source": [
        "y = np.concatenate([fp, hp, lf])\n",
        "print(y)"
      ]
    },
    {
      "cell_type": "code",
      "execution_count": 23,
      "id": "4d7549ff-eec5-4f69-b4e9-d77257379bb8",
      "metadata": {
        "trusted": true
      },
      "outputs": [
        {
          "data": {
            "text/plain": [
              "176.46428571428572"
            ]
          },
          "execution_count": 23,
          "metadata": {},
          "output_type": "execute_result"
        }
      ],
      "source": [
        "y_mean = y.mean()\n",
        "y_mean"
      ]
    },
    {
      "cell_type": "markdown",
      "id": "4eb9ae75",
      "metadata": {},
      "source": [
        "Найдём значения $S_F$ и $S_{res}$:"
      ]
    },
    {
      "cell_type": "code",
      "execution_count": 24,
      "id": "8476a139-0323-42b1-bb1e-02972b90fadd",
      "metadata": {
        "trusted": true
      },
      "outputs": [
        {
          "data": {
            "text/plain": [
              "(253.9074675324678, 577.0568181818182)"
            ]
          },
          "execution_count": 24,
          "metadata": {},
          "output_type": "execute_result"
        }
      ],
      "source": [
        "S2_F = n1 * (fp_mean - y_mean) ** 2 + n2 * (hp_mean - y_mean) ** 2 + n3 * (lf_mean - y_mean) ** 2\n",
        "S2_res = ((fp - fp_mean) ** 2).sum() + ((hp - hp_mean) ** 2).sum() + ((lf - lf_mean) ** 2).sum()\n",
        "S2_F, S2_res"
      ]
    },
    {
      "cell_type": "markdown",
      "id": "695be3e9",
      "metadata": {},
      "source": [
        "Проверим выполнение равенства $S^2 = S_F^2 + S_{res}^2:$"
      ]
    },
    {
      "cell_type": "code",
      "execution_count": 25,
      "id": "b29faabf-66c0-4fbc-b545-12e75ef98b38",
      "metadata": {
        "trusted": true
      },
      "outputs": [
        {
          "data": {
            "text/plain": [
              "830.964285714286"
            ]
          },
          "execution_count": 25,
          "metadata": {},
          "output_type": "execute_result"
        }
      ],
      "source": [
        "S2_F + S2_res"
      ]
    },
    {
      "cell_type": "code",
      "execution_count": 26,
      "id": "302ba714-3656-4597-903f-2b4339087b77",
      "metadata": {
        "trusted": true
      },
      "outputs": [
        {
          "data": {
            "text/plain": [
              "830.9642857142854"
            ]
          },
          "execution_count": 26,
          "metadata": {},
          "output_type": "execute_result"
        }
      ],
      "source": [
        "((y - y_mean) ** 2).sum()"
      ]
    },
    {
      "cell_type": "markdown",
      "id": "9a0421e1",
      "metadata": {},
      "source": [
        "Запишем оценки дисперсий:"
      ]
    },
    {
      "cell_type": "code",
      "execution_count": 27,
      "id": "49ac8c11-fbd5-4259-a7a4-935fff028bda",
      "metadata": {
        "trusted": true
      },
      "outputs": [
        {
          "data": {
            "text/plain": [
              "(126.9537337662339, 23.08227272727273)"
            ]
          },
          "execution_count": 27,
          "metadata": {},
          "output_type": "execute_result"
        }
      ],
      "source": [
        "k = 3\n",
        "n = n1 + n2 + n3\n",
        "\n",
        "k1 = k - 1\n",
        "k2 = n - k\n",
        "\n",
        "sigma2_F = S2_F / k1\n",
        "sigma2_res = S2_res / k2\n",
        "\n",
        "sigma2_F, sigma2_res"
      ]
    },
    {
      "cell_type": "markdown",
      "id": "e29acb24",
      "metadata": {},
      "source": [
        "Итак, значение статистики $T$:"
      ]
    },
    {
      "cell_type": "code",
      "execution_count": 28,
      "id": "800325c6-c9d3-4304-ad0b-f93f74c8314e",
      "metadata": {
        "trusted": true
      },
      "outputs": [
        {
          "data": {
            "text/plain": [
              "5.500053450812598"
            ]
          },
          "execution_count": 28,
          "metadata": {},
          "output_type": "execute_result"
        }
      ],
      "source": [
        "T = sigma2_F / sigma2_res\n",
        "T"
      ]
    },
    {
      "cell_type": "markdown",
      "id": "8fa78cb4",
      "metadata": {},
      "source": [
        "Зафиксируем уровень значимости $\\\\alpha = 0.05$. Для него найдём критическое значение $F_{crit}$:"
      ]
    },
    {
      "cell_type": "code",
      "execution_count": 29,
      "id": "c842a029-7366-4643-8fa1-8bf93daafe5f",
      "metadata": {
        "trusted": true
      },
      "outputs": [
        {
          "data": {
            "text/plain": [
              "3.3851899614491687"
            ]
          },
          "execution_count": 29,
          "metadata": {},
          "output_type": "execute_result"
        }
      ],
      "source": [
        "alpha = 0.05\n",
        "\n",
        "F_crit = stats.f.ppf(1 - alpha, k1, k2)\n",
        "F_crit"
      ]
    },
    {
      "cell_type": "markdown",
      "id": "1324096c",
      "metadata": {},
      "source": [
        "Видим, что $T > F_{crit}$, поэтому заключаем, что отличие среднего роста футболистов, хокеистов и штангистов действительно является статистически значимым"
      ]
    }
  ],
  "metadata": {
    "kernelspec": {
      "display_name": "Python (Pyodide)",
      "language": "python",
      "name": "python"
    },
    "language_info": {
      "codemirror_mode": {
        "name": "python",
        "version": 3
      },
      "file_extension": ".py",
      "mimetype": "text/x-python",
      "name": "python",
      "nbconvert_exporter": "python",
      "pygments_lexer": "ipython3",
      "version": "3.8"
    }
  },
  "nbformat": 4,
  "nbformat_minor": 5
}
