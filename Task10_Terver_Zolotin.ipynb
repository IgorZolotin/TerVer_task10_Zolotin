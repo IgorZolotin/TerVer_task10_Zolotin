{
  "cells": [
    {
      "cell_type": "code",
      "execution_count": 5,
      "id": "275112ab-3359-4f61-8d62-a868007226ab",
      "metadata": {
        "trusted": true
      },
      "outputs": [],
      "source": [
        "import numpy as np\n",
        "from scipy import stats"
      ]
    },
    {
      "cell_type": "markdown",
      "id": "996d45f5",
      "metadata": {},
      "source": [
        "Задание 1. Провести дисперсионный анализ для определения того, есть ли различия среднего роста среди взрослых футболистов, хоккеистов и штангистов. Даны значения роста в трех группах случайно выбранных спортсменов:\n",
        "\n",
        "football_players = [173, 175, 180, 178, 177, 185, 183, 182]\n",
        "\n",
        "hockey_players = [177, 179, 180, 188, 177, 172, 171, 184, 180]\n",
        "\n",
        "lifters = [172, 173, 169, 177, 166, 180, 178, 177, 172, 166, 170]"
      ]
    },
    {
      "cell_type": "code",
      "execution_count": null,
      "id": "62fb05ce-fa20-4c58-b5ee-d18af9a3221c",
      "metadata": {
        "trusted": true
      },
      "outputs": [],
      "source": [
        "fp = np.array([173, 175, 180, 178, 177, 185, 183, 182], dtype=np.float64)\n",
        "hp = np.array([177, 179, 180, 188, 177, 172, 171, 184, 180], dtype=np.float64)\n",
        "lf = np.array([172, 173, 169, 177, 166, 180, 178, 177, 172, 166, 170], dtype=np.float64)\n",
        "\n",
        "n1 = fp.shape[0]\n",
        "n2 = hp.shape[0]\n",
        "n3 = lf.shape[0]"
      ]
    },
    {
      "cell_type": "code",
      "execution_count": 13,
      "id": "4f670b03-d3b8-4cd9-89c1-659491209c13",
      "metadata": {
        "trusted": true
      },
      "outputs": [
        {
          "data": {
            "text/plain": [
              "(179.125, 178.66666666666666, 172.72727272727272)"
            ]
          },
          "execution_count": 13,
          "metadata": {},
          "output_type": "execute_result"
        }
      ],
      "source": [
        "fp_mean = fp.mean()\n",
        "hp_mean = hp.mean()\n",
        "lf_mean = lf.mean()\n",
        "\n",
        "fp_mean, hp_mean, lf_mean"
      ]
    },
    {
      "cell_type": "markdown",
      "id": "6e27f133",
      "metadata": {},
      "source": [
        "Видно, что средние роста хокеистов и футболистов отличаются не сильно. Проверим статистическую значимость всех отличий."
      ]
    },
    {
      "cell_type": "code",
      "execution_count": 22,
      "id": "ee38474a-8fec-451f-830b-a8441ad06738",
      "metadata": {
        "trusted": true
      },
      "outputs": [
        {
          "name": "stdout",
          "output_type": "stream",
          "text": [
            "[173. 175. 180. 178. 177. 185. 183. 182. 177. 179. 180. 188. 177. 172.\n",
            " 171. 184. 180. 172. 173. 169. 177. 166. 180. 178. 177. 172. 166. 170.]\n"
          ]
        }
      ],
      "source": [
        "y = np.concatenate([fp, hp, lf])\n",
        "print(y)"
      ]
    },
    {
      "cell_type": "code",
      "execution_count": 23,
      "id": "4d7549ff-eec5-4f69-b4e9-d77257379bb8",
      "metadata": {
        "trusted": true
      },
      "outputs": [
        {
          "data": {
            "text/plain": [
              "176.46428571428572"
            ]
          },
          "execution_count": 23,
          "metadata": {},
          "output_type": "execute_result"
        }
      ],
      "source": [
        "y_mean = y.mean()\n",
        "y_mean"
      ]
    }
  ],
  "metadata": {
    "kernelspec": {
      "display_name": "Python (Pyodide)",
      "language": "python",
      "name": "python"
    },
    "language_info": {
      "codemirror_mode": {
        "name": "python",
        "version": 3
      },
      "file_extension": ".py",
      "mimetype": "text/x-python",
      "name": "python",
      "nbconvert_exporter": "python",
      "pygments_lexer": "ipython3",
      "version": "3.8"
    }
  },
  "nbformat": 4,
  "nbformat_minor": 5
}
